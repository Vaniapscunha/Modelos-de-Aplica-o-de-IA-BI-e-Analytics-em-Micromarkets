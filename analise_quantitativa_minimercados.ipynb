{
 "cells": [
  {
   "cell_type": "markdown",
   "id": "0e0a187d",
   "metadata": {},
   "source": [
    "# Análise Quantitativa - Minimercados Autônomos\n",
    "Este notebook implementa a análise quantitativa simulada do estudo, seguindo as etapas do CRISP-DM. Inclui geração de dados fictícios, análise exploratória, clusterização, modelagem preditiva e prescritiva, e exportação de resultados."
   ]
  },
  {
   "cell_type": "code",
   "execution_count": null,
   "id": "fb700417",
   "metadata": {},
   "outputs": [],
   "source": [
    "\n",
    "import numpy as np\n",
    "import pandas as pd\n",
    "import matplotlib.pyplot as plt\n",
    "from sklearn.cluster import KMeans\n",
    "from sklearn.preprocessing import StandardScaler\n",
    "from sklearn.linear_model import LinearRegression\n",
    "from sklearn.tree import DecisionTreeClassifier, plot_tree\n",
    "from sklearn.metrics import accuracy_score, classification_report\n",
    "from scipy.stats import pearsonr, spearmanr\n",
    "import os\n",
    "\n",
    "np.random.seed(42)\n"
   ]
  },
  {
   "cell_type": "markdown",
   "id": "2a7bea3f",
   "metadata": {},
   "source": [
    "## 1. Geração do Dataset Simulado"
   ]
  },
  {
   "cell_type": "code",
   "execution_count": null,
   "id": "cec0166d",
   "metadata": {},
   "outputs": [],
   "source": [
    "\n",
    "n_skus = 50\n",
    "months = pd.date_range(start='2025-01-01', periods=6, freq='MS')\n",
    "categories = ['Bebidas','Frios','Mercearia','Higiene','Outros']\n",
    "turnover_classes = ['alto','medio','baixo']\n",
    "\n",
    "rows = []\n",
    "for sku_id in range(1, n_skus+1):\n",
    "    sku = f\"SKU{sku_id:03d}\"\n",
    "    category = np.random.choice(categories, p=[0.2,0.15,0.4,0.15,0.1])\n",
    "    turnover = np.random.choice(turnover_classes, p=[0.2,0.5,0.3])\n",
    "    base_price = round(np.random.uniform(2.5, 30.0),2)\n",
    "    base_cost = round(base_price * np.random.uniform(0.5,0.8),2)\n",
    "    if turnover == 'alto':\n",
    "        mu = np.random.uniform(150, 300)\n",
    "    elif turnover == 'medio':\n",
    "        mu = np.random.uniform(40, 150)\n",
    "    else:\n",
    "        mu = np.random.uniform(5, 40)\n",
    "    for m in months:\n",
    "        month_factor = 1 + 0.05 * np.sin((m.month/12)*2*np.pi) + np.random.normal(0,0.03)\n",
    "        promo = np.random.binomial(1, 0.12)\n",
    "        promo_effect = 1.4 if promo==1 else 1.0\n",
    "        price = round(base_price * (1 + np.random.normal(0,0.03)),2)\n",
    "        price_factor = max(0.6, 1 - 0.02*(price-base_price)/base_price)\n",
    "        sales = max(0, int(np.random.poisson(mu * month_factor * promo_effect * price_factor)))\n",
    "        stock = int(max(5, np.round(mu * np.random.uniform(0.8,1.8))))\n",
    "        losses = int(np.round(sales * np.random.uniform(0.01,0.06)))\n",
    "        rows.append({\n",
    "            'sku': sku,\n",
    "            'category': category,\n",
    "            'turnover_class': turnover,\n",
    "            'date': m,\n",
    "            'price': price,\n",
    "            'cost': base_cost,\n",
    "            'sales_qty': sales,\n",
    "            'stock': stock,\n",
    "            'promo': promo,\n",
    "            'losses': losses\n",
    "        })\n",
    "\n",
    "df = pd.DataFrame(rows)\n",
    "df.head()\n"
   ]
  },
  {
   "cell_type": "markdown",
   "id": "6f9d77ed",
   "metadata": {},
   "source": [
    "## 2. Agregação por SKU"
   ]
  },
  {
   "cell_type": "code",
   "execution_count": null,
   "id": "40a4076c",
   "metadata": {},
   "outputs": [],
   "source": [
    "\n",
    "agg = df.groupby('sku').agg(\n",
    "    category=('category','first'),\n",
    "    turnover_class=('turnover_class','first'),\n",
    "    avg_price=('price','mean'),\n",
    "    avg_cost=('cost','mean'),\n",
    "    total_sales_6m=('sales_qty','sum'),\n",
    "    avg_monthly_sales=('sales_qty','mean'),\n",
    "    std_monthly_sales=('sales_qty','std'),\n",
    "    avg_stock=('stock','mean'),\n",
    "    total_losses=('losses','sum'),\n",
    "    promo_count=('promo','sum')\n",
    ").reset_index()\n",
    "\n",
    "agg['cv_sales'] = agg['std_monthly_sales'] / (agg['avg_monthly_sales'].replace(0, np.nan))\n",
    "agg['turnover_rate_est'] = agg['total_sales_6m'] / (agg['avg_stock']*6)\n",
    "agg.fillna(0, inplace=True)\n",
    "agg.head()\n"
   ]
  },
  {
   "cell_type": "markdown",
   "id": "3ff01c62",
   "metadata": {},
   "source": [
    "## 3. Análise Exploratória"
   ]
  },
  {
   "cell_type": "code",
   "execution_count": null,
   "id": "2f56b4e8",
   "metadata": {},
   "outputs": [],
   "source": [
    "\n",
    "sales_by_month = df.groupby('date')['sales_qty'].sum().reset_index()\n",
    "plt.plot(sales_by_month['date'], sales_by_month['sales_qty'], marker='o')\n",
    "plt.title('Vendas totais por mês (simulado)')\n",
    "plt.xlabel('Mês')\n",
    "plt.ylabel('Quantidade vendida')\n",
    "plt.grid(True)\n",
    "plt.show()\n"
   ]
  },
  {
   "cell_type": "markdown",
   "id": "e226127f",
   "metadata": {},
   "source": [
    "## 4. Clusterização de Produtos (KMeans)"
   ]
  },
  {
   "cell_type": "code",
   "execution_count": null,
   "id": "5f082512",
   "metadata": {},
   "outputs": [],
   "source": [
    "\n",
    "features = agg[['avg_monthly_sales','cv_sales','avg_stock']].copy()\n",
    "scaler = StandardScaler()\n",
    "X = scaler.fit_transform(features)\n",
    "kmeans = KMeans(n_clusters=3, random_state=42, n_init=10)\n",
    "agg['cluster'] = kmeans.fit_predict(X)\n",
    "\n",
    "cluster_desc = agg.groupby('cluster').agg(mean_avg_sales=('avg_monthly_sales','mean')).reset_index().sort_values('mean_avg_sales', ascending=False)\n",
    "order = cluster_desc['cluster'].values\n",
    "label_map = {order[0]: 'alto', order[1]: 'medio', order[2]: 'baixo'}\n",
    "agg['cluster_label'] = agg['cluster'].map(label_map)\n",
    "\n",
    "agg[['sku','avg_monthly_sales','avg_stock','cluster_label']].head(10)\n"
   ]
  },
  {
   "cell_type": "markdown",
   "id": "fe34ea2f",
   "metadata": {},
   "source": [
    "## 5. Modelagem Preditiva: Médias Móveis e Suavização Exponencial"
   ]
  },
  {
   "cell_type": "code",
   "execution_count": null,
   "id": "fe0fc271",
   "metadata": {},
   "outputs": [],
   "source": [
    "\n",
    "def simple_moving_average(series, window):\n",
    "    return series.rolling(window=window, min_periods=1).mean()\n",
    "\n",
    "sku_example = df[df['sku']=='SKU001'].sort_values('date').copy()\n",
    "sku_example['sma_3'] = simple_moving_average(sku_example['sales_qty'], 3)\n",
    "\n",
    "alpha = 0.3\n",
    "exp_vals = []\n",
    "s = None\n",
    "for val in sku_example['sales_qty']:\n",
    "    if s is None:\n",
    "        s = val\n",
    "    else:\n",
    "        s = alpha*val + (1-alpha)*s\n",
    "    exp_vals.append(s)\n",
    "sku_example['exp_smooth_alpha03'] = exp_vals\n",
    "\n",
    "sku_example[['date','sales_qty','sma_3','exp_smooth_alpha03']]\n"
   ]
  },
  {
   "cell_type": "markdown",
   "id": "64df1a22",
   "metadata": {},
   "source": [
    "## 6. Regressão Linear Simples (Preço e Promoção → Vendas)"
   ]
  },
  {
   "cell_type": "code",
   "execution_count": null,
   "id": "3643452d",
   "metadata": {},
   "outputs": [],
   "source": [
    "\n",
    "X_reg = df[['price','promo']].copy()\n",
    "y_reg = df['sales_qty']\n",
    "lr = LinearRegression().fit(X_reg,y_reg)\n",
    "print('Coef preço:', lr.coef_[0])\n",
    "print('Coef promo:', lr.coef_[1])\n",
    "print('R2:', lr.score(X_reg,y_reg))\n"
   ]
  },
  {
   "cell_type": "markdown",
   "id": "226be243",
   "metadata": {},
   "source": [
    "## 7. Modelagem Prescritiva: Árvore de Decisão"
   ]
  },
  {
   "cell_type": "code",
   "execution_count": null,
   "id": "1124df9d",
   "metadata": {},
   "outputs": [],
   "source": [
    "\n",
    "def action_label(row):\n",
    "    if row['avg_monthly_sales'] > row['avg_stock']*0.9:\n",
    "        return 'reorder'\n",
    "    elif row['avg_monthly_sales'] < row['avg_stock']*0.35:\n",
    "        return 'decrease_stock'\n",
    "    else:\n",
    "        return 'maintain'\n",
    "\n",
    "agg['action'] = agg.apply(action_label, axis=1)\n",
    "\n",
    "clf_features = agg[['avg_monthly_sales','cv_sales','avg_stock','promo_count']].values\n",
    "clf_labels = agg['action'].values\n",
    "clf = DecisionTreeClassifier(random_state=42, max_depth=4).fit(clf_features, clf_labels)\n",
    "preds = clf.predict(clf_features)\n",
    "\n",
    "print('Acurácia:', accuracy_score(clf_labels, preds))\n",
    "print(classification_report(clf_labels, preds))\n",
    "\n",
    "plt.figure(figsize=(10,6))\n",
    "plot_tree(clf, feature_names=['avg_monthly_sales','cv_sales','avg_stock','promo_count'], class_names=clf.classes_, filled=True)\n",
    "plt.show()\n"
   ]
  },
  {
   "cell_type": "markdown",
   "id": "4c5ec86d",
   "metadata": {},
   "source": [
    "## 8. Análise de Correlação"
   ]
  },
  {
   "cell_type": "code",
   "execution_count": null,
   "id": "d4dfc800",
   "metadata": {},
   "outputs": [],
   "source": [
    "\n",
    "pairs = [\n",
    "    ('avg_monthly_sales','avg_stock'),\n",
    "    ('avg_monthly_sales','cv_sales'),\n",
    "    ('total_sales_6m','promo_count'),\n",
    "    ('avg_monthly_sales','avg_price')\n",
    "]\n",
    "for a,b in pairs:\n",
    "    p_pearson = pearsonr(agg[a], agg[b])[0]\n",
    "    p_spearman = spearmanr(agg[a], agg[b]).correlation\n",
    "    print(f'{a} vs {b} → Pearson: {p_pearson:.3f}, Spearman: {p_spearman:.3f}')\n"
   ]
  },
  {
   "cell_type": "markdown",
   "id": "40e86062",
   "metadata": {},
   "source": [
    "## 9. Exportação dos Dados"
   ]
  },
  {
   "cell_type": "code",
   "execution_count": null,
   "id": "39773b10",
   "metadata": {},
   "outputs": [],
   "source": [
    "\n",
    "os.makedirs('results', exist_ok=True)\n",
    "df.to_csv('results/minimarket_simulated_monthly.csv', index=False)\n",
    "agg.to_csv('results/minimarket_simulated_sku_agg.csv', index=False)\n",
    "print(\"Arquivos exportados para pasta 'results'\")\n"
   ]
  }
 ],
 "metadata": {},
 "nbformat": 4,
 "nbformat_minor": 5
}
